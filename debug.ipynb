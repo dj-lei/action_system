{
 "cells": [
  {
   "cell_type": "code",
   "execution_count": 1,
   "id": "094c2f74",
   "metadata": {},
   "outputs": [],
   "source": [
    "import bpy"
   ]
  },
  {
   "cell_type": "code",
   "execution_count": 2,
   "id": "48bb55df",
   "metadata": {},
   "outputs": [
    {
     "name": "stdout",
     "output_type": "stream",
     "text": [
      "FBX version: 7400\n"
     ]
    },
    {
     "data": {
      "text/plain": [
       "{'FINISHED'}"
      ]
     },
     "execution_count": 2,
     "metadata": {},
     "output_type": "execute_result"
    }
   ],
   "source": [
    "bpy.ops.import_scene.fbx(filepath = 'test1.fbx')"
   ]
  },
  {
   "cell_type": "code",
   "execution_count": 4,
   "id": "36f17c93",
   "metadata": {},
   "outputs": [],
   "source": [
    "body = bpy.data.objects['metarig']"
   ]
  },
  {
   "cell_type": "code",
   "execution_count": 6,
   "id": "9c163729",
   "metadata": {
    "scrolled": true
   },
   "outputs": [
    {
     "data": {
      "text/plain": [
       "[('spine', bpy.data.objects['metarig'].pose.bones[\"spine\"]),\n",
       " ('spine.001', bpy.data.objects['metarig'].pose.bones[\"spine.001\"]),\n",
       " ('spine.002', bpy.data.objects['metarig'].pose.bones[\"spine.002\"]),\n",
       " ('spine.003', bpy.data.objects['metarig'].pose.bones[\"spine.003\"]),\n",
       " ('spine.004', bpy.data.objects['metarig'].pose.bones[\"spine.004\"]),\n",
       " ('spine.005', bpy.data.objects['metarig'].pose.bones[\"spine.005\"]),\n",
       " ('spine.006', bpy.data.objects['metarig'].pose.bones[\"spine.006\"]),\n",
       " ('face', bpy.data.objects['metarig'].pose.bones[\"face\"]),\n",
       " ('nose', bpy.data.objects['metarig'].pose.bones[\"nose\"]),\n",
       " ('nose.001', bpy.data.objects['metarig'].pose.bones[\"nose.001\"]),\n",
       " ('nose.002', bpy.data.objects['metarig'].pose.bones[\"nose.002\"]),\n",
       " ('nose.003', bpy.data.objects['metarig'].pose.bones[\"nose.003\"]),\n",
       " ('nose.004', bpy.data.objects['metarig'].pose.bones[\"nose.004\"]),\n",
       " ('nose.004_end', bpy.data.objects['metarig'].pose.bones[\"nose.004_end\"]),\n",
       " ('lip.T.L', bpy.data.objects['metarig'].pose.bones[\"lip.T.L\"]),\n",
       " ('lip.T.L.001', bpy.data.objects['metarig'].pose.bones[\"lip.T.L.001\"]),\n",
       " ('lip.T.L.001_end',\n",
       "  bpy.data.objects['metarig'].pose.bones[\"lip.T.L.001_end\"]),\n",
       " ('lip.B.L', bpy.data.objects['metarig'].pose.bones[\"lip.B.L\"]),\n",
       " ('lip.B.L.001', bpy.data.objects['metarig'].pose.bones[\"lip.B.L.001\"]),\n",
       " ('lip.B.L.001_end',\n",
       "  bpy.data.objects['metarig'].pose.bones[\"lip.B.L.001_end\"]),\n",
       " ('jaw', bpy.data.objects['metarig'].pose.bones[\"jaw\"]),\n",
       " ('chin', bpy.data.objects['metarig'].pose.bones[\"chin\"]),\n",
       " ('chin.001', bpy.data.objects['metarig'].pose.bones[\"chin.001\"]),\n",
       " ('chin.001_end', bpy.data.objects['metarig'].pose.bones[\"chin.001_end\"]),\n",
       " ('ear.L', bpy.data.objects['metarig'].pose.bones[\"ear.L\"]),\n",
       " ('ear.L.001', bpy.data.objects['metarig'].pose.bones[\"ear.L.001\"]),\n",
       " ('ear.L.002', bpy.data.objects['metarig'].pose.bones[\"ear.L.002\"]),\n",
       " ('ear.L.003', bpy.data.objects['metarig'].pose.bones[\"ear.L.003\"]),\n",
       " ('ear.L.004', bpy.data.objects['metarig'].pose.bones[\"ear.L.004\"]),\n",
       " ('ear.L.004_end', bpy.data.objects['metarig'].pose.bones[\"ear.L.004_end\"]),\n",
       " ('ear.R', bpy.data.objects['metarig'].pose.bones[\"ear.R\"]),\n",
       " ('ear.R.001', bpy.data.objects['metarig'].pose.bones[\"ear.R.001\"]),\n",
       " ('ear.R.002', bpy.data.objects['metarig'].pose.bones[\"ear.R.002\"]),\n",
       " ('ear.R.003', bpy.data.objects['metarig'].pose.bones[\"ear.R.003\"]),\n",
       " ('ear.R.004', bpy.data.objects['metarig'].pose.bones[\"ear.R.004\"]),\n",
       " ('ear.R.004_end', bpy.data.objects['metarig'].pose.bones[\"ear.R.004_end\"]),\n",
       " ('lip.T.R', bpy.data.objects['metarig'].pose.bones[\"lip.T.R\"]),\n",
       " ('lip.T.R.001', bpy.data.objects['metarig'].pose.bones[\"lip.T.R.001\"]),\n",
       " ('lip.T.R.001_end',\n",
       "  bpy.data.objects['metarig'].pose.bones[\"lip.T.R.001_end\"]),\n",
       " ('lip.B.R', bpy.data.objects['metarig'].pose.bones[\"lip.B.R\"]),\n",
       " ('lip.B.R.001', bpy.data.objects['metarig'].pose.bones[\"lip.B.R.001\"]),\n",
       " ('lip.B.R.001_end',\n",
       "  bpy.data.objects['metarig'].pose.bones[\"lip.B.R.001_end\"]),\n",
       " ('brow.B.L', bpy.data.objects['metarig'].pose.bones[\"brow.B.L\"]),\n",
       " ('brow.B.L.001', bpy.data.objects['metarig'].pose.bones[\"brow.B.L.001\"]),\n",
       " ('brow.B.L.002', bpy.data.objects['metarig'].pose.bones[\"brow.B.L.002\"]),\n",
       " ('brow.B.L.003', bpy.data.objects['metarig'].pose.bones[\"brow.B.L.003\"]),\n",
       " ('brow.B.L.003_end',\n",
       "  bpy.data.objects['metarig'].pose.bones[\"brow.B.L.003_end\"]),\n",
       " ('lid.T.L', bpy.data.objects['metarig'].pose.bones[\"lid.T.L\"]),\n",
       " ('lid.T.L.001', bpy.data.objects['metarig'].pose.bones[\"lid.T.L.001\"]),\n",
       " ('lid.T.L.002', bpy.data.objects['metarig'].pose.bones[\"lid.T.L.002\"]),\n",
       " ('lid.T.L.003', bpy.data.objects['metarig'].pose.bones[\"lid.T.L.003\"]),\n",
       " ('lid.B.L', bpy.data.objects['metarig'].pose.bones[\"lid.B.L\"]),\n",
       " ('lid.B.L.001', bpy.data.objects['metarig'].pose.bones[\"lid.B.L.001\"]),\n",
       " ('lid.B.L.002', bpy.data.objects['metarig'].pose.bones[\"lid.B.L.002\"]),\n",
       " ('lid.B.L.003', bpy.data.objects['metarig'].pose.bones[\"lid.B.L.003\"]),\n",
       " ('lid.B.L.003_end',\n",
       "  bpy.data.objects['metarig'].pose.bones[\"lid.B.L.003_end\"]),\n",
       " ('brow.B.R', bpy.data.objects['metarig'].pose.bones[\"brow.B.R\"]),\n",
       " ('brow.B.R.001', bpy.data.objects['metarig'].pose.bones[\"brow.B.R.001\"]),\n",
       " ('brow.B.R.002', bpy.data.objects['metarig'].pose.bones[\"brow.B.R.002\"]),\n",
       " ('brow.B.R.003', bpy.data.objects['metarig'].pose.bones[\"brow.B.R.003\"]),\n",
       " ('brow.B.R.003_end',\n",
       "  bpy.data.objects['metarig'].pose.bones[\"brow.B.R.003_end\"]),\n",
       " ('lid.T.R', bpy.data.objects['metarig'].pose.bones[\"lid.T.R\"]),\n",
       " ('lid.T.R.001', bpy.data.objects['metarig'].pose.bones[\"lid.T.R.001\"]),\n",
       " ('lid.T.R.002', bpy.data.objects['metarig'].pose.bones[\"lid.T.R.002\"]),\n",
       " ('lid.T.R.003', bpy.data.objects['metarig'].pose.bones[\"lid.T.R.003\"]),\n",
       " ('lid.B.R', bpy.data.objects['metarig'].pose.bones[\"lid.B.R\"]),\n",
       " ('lid.B.R.001', bpy.data.objects['metarig'].pose.bones[\"lid.B.R.001\"]),\n",
       " ('lid.B.R.002', bpy.data.objects['metarig'].pose.bones[\"lid.B.R.002\"]),\n",
       " ('lid.B.R.003', bpy.data.objects['metarig'].pose.bones[\"lid.B.R.003\"]),\n",
       " ('lid.B.R.003_end',\n",
       "  bpy.data.objects['metarig'].pose.bones[\"lid.B.R.003_end\"]),\n",
       " ('forehead.L', bpy.data.objects['metarig'].pose.bones[\"forehead.L\"]),\n",
       " ('forehead.L.001', bpy.data.objects['metarig'].pose.bones[\"forehead.L.001\"]),\n",
       " ('forehead.L.002', bpy.data.objects['metarig'].pose.bones[\"forehead.L.002\"]),\n",
       " ('temple.L', bpy.data.objects['metarig'].pose.bones[\"temple.L\"]),\n",
       " ('jaw.L', bpy.data.objects['metarig'].pose.bones[\"jaw.L\"]),\n",
       " ('jaw.L.001', bpy.data.objects['metarig'].pose.bones[\"jaw.L.001\"]),\n",
       " ('chin.L', bpy.data.objects['metarig'].pose.bones[\"chin.L\"]),\n",
       " ('cheek.B.L', bpy.data.objects['metarig'].pose.bones[\"cheek.B.L\"]),\n",
       " ('cheek.B.L.001', bpy.data.objects['metarig'].pose.bones[\"cheek.B.L.001\"]),\n",
       " ('brow.T.L', bpy.data.objects['metarig'].pose.bones[\"brow.T.L\"]),\n",
       " ('brow.T.L.001', bpy.data.objects['metarig'].pose.bones[\"brow.T.L.001\"]),\n",
       " ('brow.T.L.002', bpy.data.objects['metarig'].pose.bones[\"brow.T.L.002\"]),\n",
       " ('brow.T.L.003', bpy.data.objects['metarig'].pose.bones[\"brow.T.L.003\"]),\n",
       " ('brow.T.L.003_end',\n",
       "  bpy.data.objects['metarig'].pose.bones[\"brow.T.L.003_end\"]),\n",
       " ('forehead.R', bpy.data.objects['metarig'].pose.bones[\"forehead.R\"]),\n",
       " ('forehead.R.001', bpy.data.objects['metarig'].pose.bones[\"forehead.R.001\"]),\n",
       " ('forehead.R.002', bpy.data.objects['metarig'].pose.bones[\"forehead.R.002\"]),\n",
       " ('temple.R', bpy.data.objects['metarig'].pose.bones[\"temple.R\"]),\n",
       " ('jaw.R', bpy.data.objects['metarig'].pose.bones[\"jaw.R\"]),\n",
       " ('jaw.R.001', bpy.data.objects['metarig'].pose.bones[\"jaw.R.001\"]),\n",
       " ('chin.R', bpy.data.objects['metarig'].pose.bones[\"chin.R\"]),\n",
       " ('cheek.B.R', bpy.data.objects['metarig'].pose.bones[\"cheek.B.R\"]),\n",
       " ('cheek.B.R.001', bpy.data.objects['metarig'].pose.bones[\"cheek.B.R.001\"]),\n",
       " ('brow.T.R', bpy.data.objects['metarig'].pose.bones[\"brow.T.R\"]),\n",
       " ('brow.T.R.001', bpy.data.objects['metarig'].pose.bones[\"brow.T.R.001\"]),\n",
       " ('brow.T.R.002', bpy.data.objects['metarig'].pose.bones[\"brow.T.R.002\"]),\n",
       " ('brow.T.R.003', bpy.data.objects['metarig'].pose.bones[\"brow.T.R.003\"]),\n",
       " ('brow.T.R.003_end',\n",
       "  bpy.data.objects['metarig'].pose.bones[\"brow.T.R.003_end\"]),\n",
       " ('eye.L', bpy.data.objects['metarig'].pose.bones[\"eye.L\"]),\n",
       " ('eye.L_end', bpy.data.objects['metarig'].pose.bones[\"eye.L_end\"]),\n",
       " ('eye.R', bpy.data.objects['metarig'].pose.bones[\"eye.R\"]),\n",
       " ('eye.R_end', bpy.data.objects['metarig'].pose.bones[\"eye.R_end\"]),\n",
       " ('cheek.T.L', bpy.data.objects['metarig'].pose.bones[\"cheek.T.L\"]),\n",
       " ('cheek.T.L.001', bpy.data.objects['metarig'].pose.bones[\"cheek.T.L.001\"]),\n",
       " ('nose.L', bpy.data.objects['metarig'].pose.bones[\"nose.L\"]),\n",
       " ('nose.L.001', bpy.data.objects['metarig'].pose.bones[\"nose.L.001\"]),\n",
       " ('nose.L.001_end', bpy.data.objects['metarig'].pose.bones[\"nose.L.001_end\"]),\n",
       " ('cheek.T.R', bpy.data.objects['metarig'].pose.bones[\"cheek.T.R\"]),\n",
       " ('cheek.T.R.001', bpy.data.objects['metarig'].pose.bones[\"cheek.T.R.001\"]),\n",
       " ('nose.R', bpy.data.objects['metarig'].pose.bones[\"nose.R\"]),\n",
       " ('nose.R.001', bpy.data.objects['metarig'].pose.bones[\"nose.R.001\"]),\n",
       " ('nose.R.001_end', bpy.data.objects['metarig'].pose.bones[\"nose.R.001_end\"]),\n",
       " ('teeth.T', bpy.data.objects['metarig'].pose.bones[\"teeth.T\"]),\n",
       " ('teeth.T_end', bpy.data.objects['metarig'].pose.bones[\"teeth.T_end\"]),\n",
       " ('teeth.B', bpy.data.objects['metarig'].pose.bones[\"teeth.B\"]),\n",
       " ('teeth.B_end', bpy.data.objects['metarig'].pose.bones[\"teeth.B_end\"]),\n",
       " ('tongue', bpy.data.objects['metarig'].pose.bones[\"tongue\"]),\n",
       " ('tongue.001', bpy.data.objects['metarig'].pose.bones[\"tongue.001\"]),\n",
       " ('tongue.002', bpy.data.objects['metarig'].pose.bones[\"tongue.002\"]),\n",
       " ('tongue.002_end', bpy.data.objects['metarig'].pose.bones[\"tongue.002_end\"]),\n",
       " ('shoulder.L', bpy.data.objects['metarig'].pose.bones[\"shoulder.L\"]),\n",
       " ('upper_arm.L', bpy.data.objects['metarig'].pose.bones[\"upper_arm.L\"]),\n",
       " ('forearm.L', bpy.data.objects['metarig'].pose.bones[\"forearm.L\"]),\n",
       " ('hand.L', bpy.data.objects['metarig'].pose.bones[\"hand.L\"]),\n",
       " ('palm.01.L', bpy.data.objects['metarig'].pose.bones[\"palm.01.L\"]),\n",
       " ('f_index.01.L', bpy.data.objects['metarig'].pose.bones[\"f_index.01.L\"]),\n",
       " ('f_index.02.L', bpy.data.objects['metarig'].pose.bones[\"f_index.02.L\"]),\n",
       " ('f_index.03.L', bpy.data.objects['metarig'].pose.bones[\"f_index.03.L\"]),\n",
       " ('f_index.03.L_end',\n",
       "  bpy.data.objects['metarig'].pose.bones[\"f_index.03.L_end\"]),\n",
       " ('thumb.01.L', bpy.data.objects['metarig'].pose.bones[\"thumb.01.L\"]),\n",
       " ('thumb.02.L', bpy.data.objects['metarig'].pose.bones[\"thumb.02.L\"]),\n",
       " ('thumb.03.L', bpy.data.objects['metarig'].pose.bones[\"thumb.03.L\"]),\n",
       " ('thumb.03.L_end', bpy.data.objects['metarig'].pose.bones[\"thumb.03.L_end\"]),\n",
       " ('palm.02.L', bpy.data.objects['metarig'].pose.bones[\"palm.02.L\"]),\n",
       " ('f_middle.01.L', bpy.data.objects['metarig'].pose.bones[\"f_middle.01.L\"]),\n",
       " ('f_middle.02.L', bpy.data.objects['metarig'].pose.bones[\"f_middle.02.L\"]),\n",
       " ('f_middle.03.L', bpy.data.objects['metarig'].pose.bones[\"f_middle.03.L\"]),\n",
       " ('f_middle.03.L_end',\n",
       "  bpy.data.objects['metarig'].pose.bones[\"f_middle.03.L_end\"]),\n",
       " ('palm.03.L', bpy.data.objects['metarig'].pose.bones[\"palm.03.L\"]),\n",
       " ('f_ring.01.L', bpy.data.objects['metarig'].pose.bones[\"f_ring.01.L\"]),\n",
       " ('f_ring.02.L', bpy.data.objects['metarig'].pose.bones[\"f_ring.02.L\"]),\n",
       " ('f_ring.03.L', bpy.data.objects['metarig'].pose.bones[\"f_ring.03.L\"]),\n",
       " ('f_ring.03.L_end',\n",
       "  bpy.data.objects['metarig'].pose.bones[\"f_ring.03.L_end\"]),\n",
       " ('palm.04.L', bpy.data.objects['metarig'].pose.bones[\"palm.04.L\"]),\n",
       " ('f_pinky.01.L', bpy.data.objects['metarig'].pose.bones[\"f_pinky.01.L\"]),\n",
       " ('f_pinky.02.L', bpy.data.objects['metarig'].pose.bones[\"f_pinky.02.L\"]),\n",
       " ('f_pinky.03.L', bpy.data.objects['metarig'].pose.bones[\"f_pinky.03.L\"]),\n",
       " ('f_pinky.03.L_end',\n",
       "  bpy.data.objects['metarig'].pose.bones[\"f_pinky.03.L_end\"]),\n",
       " ('shoulder.R', bpy.data.objects['metarig'].pose.bones[\"shoulder.R\"]),\n",
       " ('upper_arm.R', bpy.data.objects['metarig'].pose.bones[\"upper_arm.R\"]),\n",
       " ('forearm.R', bpy.data.objects['metarig'].pose.bones[\"forearm.R\"]),\n",
       " ('hand.R', bpy.data.objects['metarig'].pose.bones[\"hand.R\"]),\n",
       " ('palm.01.R', bpy.data.objects['metarig'].pose.bones[\"palm.01.R\"]),\n",
       " ('f_index.01.R', bpy.data.objects['metarig'].pose.bones[\"f_index.01.R\"]),\n",
       " ('f_index.02.R', bpy.data.objects['metarig'].pose.bones[\"f_index.02.R\"]),\n",
       " ('f_index.03.R', bpy.data.objects['metarig'].pose.bones[\"f_index.03.R\"]),\n",
       " ('f_index.03.R_end',\n",
       "  bpy.data.objects['metarig'].pose.bones[\"f_index.03.R_end\"]),\n",
       " ('thumb.01.R', bpy.data.objects['metarig'].pose.bones[\"thumb.01.R\"]),\n",
       " ('thumb.02.R', bpy.data.objects['metarig'].pose.bones[\"thumb.02.R\"]),\n",
       " ('thumb.03.R', bpy.data.objects['metarig'].pose.bones[\"thumb.03.R\"]),\n",
       " ('thumb.03.R_end', bpy.data.objects['metarig'].pose.bones[\"thumb.03.R_end\"]),\n",
       " ('palm.02.R', bpy.data.objects['metarig'].pose.bones[\"palm.02.R\"]),\n",
       " ('f_middle.01.R', bpy.data.objects['metarig'].pose.bones[\"f_middle.01.R\"]),\n",
       " ('f_middle.02.R', bpy.data.objects['metarig'].pose.bones[\"f_middle.02.R\"]),\n",
       " ('f_middle.03.R', bpy.data.objects['metarig'].pose.bones[\"f_middle.03.R\"]),\n",
       " ('f_middle.03.R_end',\n",
       "  bpy.data.objects['metarig'].pose.bones[\"f_middle.03.R_end\"]),\n",
       " ('palm.03.R', bpy.data.objects['metarig'].pose.bones[\"palm.03.R\"]),\n",
       " ('f_ring.01.R', bpy.data.objects['metarig'].pose.bones[\"f_ring.01.R\"]),\n",
       " ('f_ring.02.R', bpy.data.objects['metarig'].pose.bones[\"f_ring.02.R\"]),\n",
       " ('f_ring.03.R', bpy.data.objects['metarig'].pose.bones[\"f_ring.03.R\"]),\n",
       " ('f_ring.03.R_end',\n",
       "  bpy.data.objects['metarig'].pose.bones[\"f_ring.03.R_end\"]),\n",
       " ('palm.04.R', bpy.data.objects['metarig'].pose.bones[\"palm.04.R\"]),\n",
       " ('f_pinky.01.R', bpy.data.objects['metarig'].pose.bones[\"f_pinky.01.R\"]),\n",
       " ('f_pinky.02.R', bpy.data.objects['metarig'].pose.bones[\"f_pinky.02.R\"]),\n",
       " ('f_pinky.03.R', bpy.data.objects['metarig'].pose.bones[\"f_pinky.03.R\"]),\n",
       " ('f_pinky.03.R_end',\n",
       "  bpy.data.objects['metarig'].pose.bones[\"f_pinky.03.R_end\"]),\n",
       " ('breast.L', bpy.data.objects['metarig'].pose.bones[\"breast.L\"]),\n",
       " ('breast.L_end', bpy.data.objects['metarig'].pose.bones[\"breast.L_end\"]),\n",
       " ('breast.R', bpy.data.objects['metarig'].pose.bones[\"breast.R\"]),\n",
       " ('breast.R_end', bpy.data.objects['metarig'].pose.bones[\"breast.R_end\"]),\n",
       " ('pelvis.L', bpy.data.objects['metarig'].pose.bones[\"pelvis.L\"]),\n",
       " ('pelvis.L_end', bpy.data.objects['metarig'].pose.bones[\"pelvis.L_end\"]),\n",
       " ('pelvis.R', bpy.data.objects['metarig'].pose.bones[\"pelvis.R\"]),\n",
       " ('pelvis.R_end', bpy.data.objects['metarig'].pose.bones[\"pelvis.R_end\"]),\n",
       " ('thigh.L', bpy.data.objects['metarig'].pose.bones[\"thigh.L\"]),\n",
       " ('shin.L', bpy.data.objects['metarig'].pose.bones[\"shin.L\"]),\n",
       " ('foot.L', bpy.data.objects['metarig'].pose.bones[\"foot.L\"]),\n",
       " ('toe.L', bpy.data.objects['metarig'].pose.bones[\"toe.L\"]),\n",
       " ('toe.L_end', bpy.data.objects['metarig'].pose.bones[\"toe.L_end\"]),\n",
       " ('heel.02.L', bpy.data.objects['metarig'].pose.bones[\"heel.02.L\"]),\n",
       " ('heel.02.L_end', bpy.data.objects['metarig'].pose.bones[\"heel.02.L_end\"]),\n",
       " ('thigh.R', bpy.data.objects['metarig'].pose.bones[\"thigh.R\"]),\n",
       " ('shin.R', bpy.data.objects['metarig'].pose.bones[\"shin.R\"]),\n",
       " ('foot.R', bpy.data.objects['metarig'].pose.bones[\"foot.R\"]),\n",
       " ('toe.R', bpy.data.objects['metarig'].pose.bones[\"toe.R\"]),\n",
       " ('toe.R_end', bpy.data.objects['metarig'].pose.bones[\"toe.R_end\"]),\n",
       " ('heel.02.R', bpy.data.objects['metarig'].pose.bones[\"heel.02.R\"]),\n",
       " ('heel.02.R_end', bpy.data.objects['metarig'].pose.bones[\"heel.02.R_end\"])]"
      ]
     },
     "execution_count": 6,
     "metadata": {},
     "output_type": "execute_result"
    }
   ],
   "source": [
    "body.pose.bones.items()"
   ]
  },
  {
   "cell_type": "code",
   "execution_count": 7,
   "id": "3a6cc876",
   "metadata": {},
   "outputs": [],
   "source": [
    "shin_L = bpy.data.objects['metarig'].pose.bones[\"shin.L\"]"
   ]
  },
  {
   "cell_type": "code",
   "execution_count": 10,
   "id": "fe247d32",
   "metadata": {},
   "outputs": [
    {
     "data": {
      "text/plain": [
       "True"
      ]
     },
     "execution_count": 10,
     "metadata": {},
     "output_type": "execute_result"
    }
   ],
   "source": [
    "shin_L.rotation_mode = 'XYZ'\n",
    "shin_L.rotation_euler.rotate_axis(\"X\", 0)\n",
    "shin_L.rotation_euler.rotate_axis(\"Y\", 0)\n",
    "shin_L.rotation_euler.rotate_axis(\"Z\", 0)\n",
    "shin_L.keyframe_insert(data_path=\"rotation_euler\" ,frame=1)"
   ]
  },
  {
   "cell_type": "code",
   "execution_count": 11,
   "id": "1638d1e8",
   "metadata": {},
   "outputs": [
    {
     "data": {
      "text/plain": [
       "True"
      ]
     },
     "execution_count": 11,
     "metadata": {},
     "output_type": "execute_result"
    }
   ],
   "source": [
    "shin_L.rotation_euler.rotate_axis(\"X\", 1)\n",
    "shin_L.rotation_euler.rotate_axis(\"Y\", 0)\n",
    "shin_L.rotation_euler.rotate_axis(\"Z\", 0)\n",
    "shin_L.keyframe_insert(data_path=\"rotation_euler\" ,frame=20)"
   ]
  },
  {
   "cell_type": "code",
   "execution_count": 12,
   "id": "05721810",
   "metadata": {},
   "outputs": [
    {
     "name": "stdout",
     "output_type": "stream",
     "text": [
      "\n",
      "FBX export starting... 'test2.fbx'\n",
      "export finished in 0.1406 sec.\n"
     ]
    },
    {
     "data": {
      "text/plain": [
       "{'FINISHED'}"
      ]
     },
     "execution_count": 12,
     "metadata": {},
     "output_type": "execute_result"
    }
   ],
   "source": [
    "bpy.ops.export_scene.fbx(filepath = 'test2.fbx')"
   ]
  },
  {
   "cell_type": "code",
   "execution_count": null,
   "id": "delayed-inspection",
   "metadata": {},
   "outputs": [],
   "source": [
    "a = (fragment.torque_x - force_rate * self.gravity * self.mass) / self.mass\n",
    "vt = a * fragment.duration\n",
    "self.rotation_x = (vt * vt - self.vcx * self.vcx) / (2 * a)"
   ]
  },
  {
   "cell_type": "code",
   "execution_count": 1,
   "id": "50378588",
   "metadata": {},
   "outputs": [
    {
     "data": {
      "text/plain": [
       "0.09999999999999999"
      ]
     },
     "execution_count": 1,
     "metadata": {},
     "output_type": "execute_result"
    }
   ],
   "source": [
    "a = 0.06 + 0.025 + 0.01 + 0.003 + 0.002\n",
    "a"
   ]
  },
  {
   "cell_type": "code",
   "execution_count": 2,
   "id": "compact-equity",
   "metadata": {},
   "outputs": [
    {
     "data": {
      "text/plain": [
       "850"
      ]
     },
     "execution_count": 2,
     "metadata": {},
     "output_type": "execute_result"
    }
   ],
   "source": [
    "b = 300 + 140 + 100 + 100 + 130 +80\n",
    "b"
   ]
  },
  {
   "cell_type": "code",
   "execution_count": null,
   "id": "breathing-comfort",
   "metadata": {},
   "outputs": [],
   "source": [
    "(2680, 0, 0, 0.5) 加速\n",
    "(0, 0, 0, 0.5) 减速\n",
    "(2200, 0, 0, c) 重力(带点力减速) 直到触碰地面\n",
    "(0, 0, 0, 0.1) 触碰地面, 减速到0(不考虑重力)\n",
    "(-200, 0, 0, c) 摩擦力,推动root移动 直到离开地面(不考虑重力)"
   ]
  },
  {
   "cell_type": "code",
   "execution_count": 3,
   "id": "dietary-evening",
   "metadata": {},
   "outputs": [
    {
     "name": "stdout",
     "output_type": "stream",
     "text": [
      "456\n"
     ]
    }
   ],
   "source": [
    "class A(object):\n",
    "    def __init__(self):\n",
    "        self.aa = '123'\n",
    "        self.ab = '456'\n",
    "        \n",
    "    def test(self):\n",
    "        print(getattr(self, \"ab\"))\n",
    "        \n",
    "a = A()\n",
    "a.test()"
   ]
  },
  {
   "cell_type": "code",
   "execution_count": null,
   "id": "daily-diana",
   "metadata": {},
   "outputs": [],
   "source": []
  }
 ],
 "metadata": {
  "kernelspec": {
   "display_name": "Python 3",
   "language": "python",
   "name": "python3"
  },
  "language_info": {
   "codemirror_mode": {
    "name": "ipython",
    "version": 3
   },
   "file_extension": ".py",
   "mimetype": "text/x-python",
   "name": "python",
   "nbconvert_exporter": "python",
   "pygments_lexer": "ipython3",
   "version": "3.8.8"
  }
 },
 "nbformat": 4,
 "nbformat_minor": 5
}
